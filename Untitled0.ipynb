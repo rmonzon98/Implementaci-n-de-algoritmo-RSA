{
  "nbformat": 4,
  "nbformat_minor": 0,
  "metadata": {
    "colab": {
      "name": "Untitled0.ipynb",
      "provenance": [],
      "collapsed_sections": []
    },
    "kernelspec": {
      "name": "python3",
      "display_name": "Python 3"
    },
    "language_info": {
      "name": "python"
    }
  },
  "cells": [
    {
      "cell_type": "markdown",
      "metadata": {
        "id": "u596fsHnjFDI"
      },
      "source": [
        "# RSA"
      ]
    },
    {
      "cell_type": "code",
      "metadata": {
        "id": "6hSbP3qxjosA"
      },
      "source": [
        "# LIBRERIAS \n",
        "import random"
      ],
      "execution_count": 11,
      "outputs": []
    },
    {
      "cell_type": "markdown",
      "metadata": {
        "id": "BsFvWQu4jHWG"
      },
      "source": [
        "Funciones utiles"
      ]
    },
    {
      "cell_type": "code",
      "metadata": {
        "id": "3aUARsYZjCCv"
      },
      "source": [
        "# prueba de primalidad\n",
        "\n",
        "# Algoritmo de prueba de primalidad extraido de https://justyusblog.wordpress.com/2016/09/11/metodo-de-miller-rabin-en-python/\n",
        "def millerrabin(p):\n",
        "    \"\"\" Dado un entero p, aplica el test de primalidad de Miller-Rabin para\n",
        "        comprobar la primalidad de dicho número\n",
        " \n",
        "    Args:\n",
        "        p: número que se va a testear.\n",
        "    Returns:\n",
        "        Devuelve false si no es primo y true si es posiblemente primo.\n",
        " \n",
        "    \"\"\" \n",
        "    #Primero comprobamos que sea impar.\n",
        "    if 1&p==0:\n",
        "        return False\n",
        "        #False = no primo\n",
        "        #True = primo\n",
        "    #Expresamos p-1 como 2^u*s, con s impar.\n",
        "    s = p-1\n",
        "    #Dividir s por 2 hasta que el resultado sea impar.\n",
        "    u = 0\n",
        "    while 1&s==0:\n",
        "        u= u+1\n",
        "        s = s >> 1\n",
        "    for _ in range(20):#Ejecuciones para reducir las probabiliades de fallo.\n",
        "        #Elegimos a al azar tal que 2 <= a <= p-2\n",
        "        a = random.randint(2, p - 2)\n",
        "        a = powerModInt(a,s,p)\n",
        " \n",
        "        if a == 1 or a == p-1:#p-1 = -1\n",
        "            return True\n",
        "        else:\n",
        "            for i in [1,1,u-1]:\n",
        "                a = powerModInt(a,2,p)\n",
        "                if a == p-1:\n",
        "                    return True\n",
        "                elif a == 1:\n",
        "                    return False\n",
        "                i=i+1\n",
        "            return False\n",
        "\n",
        "def powerModInt(a,k,n):\n",
        "    b = 1\n",
        "    if k == 0:\n",
        "        return b \n",
        "    while k>=1:\n",
        "        if k&1:\n",
        "            b = (b*a)%n\n",
        "        a =(a*a)%n\n",
        "        k=k>>1\n",
        "    return b\n",
        "\n",
        "#inverso multiplicativo modular\n",
        "#https://en.wikibooks.org/wiki/Algorithm_Implementation/Mathematics/Extended_Euclidean_algorithm\n",
        "def egcd(a, b):\n",
        "  if a == 0:\n",
        "    return (b, 0, 1)\n",
        "  else:\n",
        "    g,y,x = egcd(b%a,a)\n",
        "    return (g,x-(b//a)*y,y)\n",
        "\n",
        "def modinv(a, m):\n",
        "  g, x, y = egcd(a, m)\n",
        "  return x % m"
      ],
      "execution_count": 72,
      "outputs": []
    },
    {
      "cell_type": "markdown",
      "metadata": {
        "id": "BTE7F387yiND"
      },
      "source": [
        "Funciones para la implementeación del RSA"
      ]
    },
    {
      "cell_type": "code",
      "metadata": {
        "id": "5yt6AIdulFcS"
      },
      "source": [
        "alfabeto = {\n",
        "    1:\"a\",\n",
        "    2:\"b\",\n",
        "    3:\"c\",\n",
        "    4:\"d\",\n",
        "    5:\"e\",\n",
        "    6:\"f\",\n",
        "    7:\"g\",\n",
        "    8:\"h\",\n",
        "    9:\"i\",\n",
        "    10:\"j\",\n",
        "    11:\"k\",\n",
        "    12:\"l\",\n",
        "    13:\"m\",\n",
        "    14:\"n\",\n",
        "    15:\"o\",\n",
        "    16:\"p\",\n",
        "    17:\"q\",\n",
        "    18:\"r\",\n",
        "    19:\"s\",\n",
        "    20:\"t\",\n",
        "    21:\"u\",\n",
        "    22:\"v\",\n",
        "    23:\"w\",\n",
        "    24:\"x\",\n",
        "    25:\"y\",\n",
        "    26:\"z\",\n",
        "    27:\" \"\n",
        "}\n",
        "# Funcion para conseguir los primeros dos numeros primos\n",
        "def getPrimalNumbers():\n",
        "  flag = True\n",
        "  randomNumbers = []\n",
        "  while flag: \n",
        "    temp = random.randint(1000, 9999)\n",
        "    if millerrabin(temp) and not temp in randomNumbers:\n",
        "      randomNumbers.append(temp)\n",
        "    if len(randomNumbers) == 2:\n",
        "      flag = False\n",
        "  return randomNumbers[0],randomNumbers[1]\n",
        "\n",
        "\"\"\"\n",
        "Ahora se necesita realizar la función de Carmichael, ya que \n",
        "λ(n) = lcm(p-1,q-1) se calcula solamente el minimo comun multiplo\n",
        "\"\"\"\n",
        "def mcm(a,b):\n",
        "  return (a/mcd(a,b))*b\n",
        "\n",
        "#minimo comun divisor\n",
        "def mcd(a,b):\n",
        "  if a == 0:\n",
        "    return b\n",
        "  return mcd(b%a,a)\n",
        "\n",
        "#elegimos \"e\"\n",
        "def elegirE(x):\n",
        "  flag = True\n",
        "  while flag:\n",
        "    e = random.randint(1000, x)\n",
        "    if millerrabin(e) and not x%e==0:\n",
        "      flag = False\n",
        "  return e\n",
        "\n",
        "#crear llave publica y privada\n",
        "def getKey():\n",
        "  p,q = getPrimalNumbers()\n",
        "  n = p*q\n",
        "  mcmValue = mcm(p-1,q-1)\n",
        "  e = elegirE(mcmValue)\n",
        "  d = int(modinv(e,mcmValue))\n",
        "  return n,e,d\n",
        "\n",
        "def cypherText(texto,n,e):\n",
        "  texto = texto.lower()\n",
        "  newmsg = []\n",
        "  keys = list(alfabeto.keys())\n",
        "  vals = list(alfabeto.values())\n",
        "  for i in texto:\n",
        "    if i == \" \":\n",
        "      newValue = (27 ** e) % n\n",
        "      newmsg.append(newValue)\n",
        "    elif i.isalpha():\n",
        "      keyLetter = keys[vals.index(i)]\n",
        "      newValue = (keyLetter ** e) % n\n",
        "      newmsg.append(newValue)\n",
        "  return newmsg\n",
        "\n",
        "def decypherText(texto,n,d):\n",
        "  newmsg = \"\"\n",
        "  for i in texto:\n",
        "    if type(i) == int:\n",
        "      newValue = (i**d)%n\n",
        "      newmsg= newmsg + alfabeto[newValue]\n",
        "    else:\n",
        "      newmsg= newmsg + i\n",
        "  return newmsg"
      ],
      "execution_count": 112,
      "outputs": []
    },
    {
      "cell_type": "markdown",
      "metadata": {
        "id": "UvLYCJiiyHF4"
      },
      "source": [
        "# Menu\n",
        "1. Generación de llaves\n",
        "2. Encripción de texto (usted da el texto y la llave publica)\n",
        "3. Desencripción de texto (usted da el texto y la llave prida)\n",
        "\n",
        "NOTA: solo funciona con letras y caracteres que NO sean numeros"
      ]
    },
    {
      "cell_type": "code",
      "metadata": {
        "colab": {
          "base_uri": "https://localhost:8080/"
        },
        "id": "HMHPr2-cyTK_",
        "outputId": "6a6286e7-a577-432c-83ad-0b55d209f1bc"
      },
      "source": [
        "opcion = input(\"Ingrese la operación que desea realizar según el menu de arriba\\n>>\")\n",
        "if opcion == \"1\":\n",
        "  n,e,d = getKey()\n",
        "  print(\"Llave publica: n=\",n,\" e=\",e)\n",
        "  print(\"Llave privada: n=\",n,\" d=\",d)\n",
        "if opcion == \"2\":\n",
        "  texto = input(\"Ingrese su texto\\n\")\n",
        "  n = input(\"Ingrese su n\\n\")\n",
        "  egcd = input(\"Ingrese su e\\n\")\n",
        "  print(cypherText(texto,int(n),int(e)))\n",
        "if opcion == \"3\":\n",
        "  texto = input(\"Ingrese su LISTA con el mensaje cifrado\\n\")\n",
        "  n = input(\"Ingrese su n\\n\")\n",
        "  d = input(\"Ingrese su d\\n\")\n",
        "  print(decypherText(texto,int(n),int(d)))"
      ],
      "execution_count": 113,
      "outputs": [
        {
          "output_type": "stream",
          "text": [
            "Ingrese la operación que desea realizar según el menu de arriba\n",
            ">>2\n",
            "Ingrese su texto\n",
            "hola que tal\n",
            "Ingrese su n\n",
            "14610553\n",
            "Ingrese su e\n",
            "2373311\n",
            "[4488049, 14137192, 13732618, 1, 8625089, 13965870, 4433512, 11949371, 8625089, 6810126, 1, 13732618]\n"
          ],
          "name": "stdout"
        }
      ]
    },
    {
      "cell_type": "markdown",
      "metadata": {
        "id": "x9U2V4yF5GU9"
      },
      "source": [
        "Manual:\n",
        "* En la primera opción del manual no debe ingresar nada, usted recibirá la llave publica y privada. Tendrá los valores de n, d y e.\n",
        "* En la segunda opcción del menú, se le pedirá el texto que desea cifrar. El valor de n y e. Esto como resultado le dará una lista con los letras cifradas pero con los caracteres especiales iguales.\n",
        "* En la tercera opción usted debe ingresar la lista con las letras cifradas como mensaje cifrado, el valor de n y el valor de d. Y se le devolverá el texto descifrado.\n",
        "\n",
        "<br></br>\n",
        "Al ingresar 1 usted puede recibir como salida: \n",
        "* Llave publica: n= 14610553  e= 2373311\n",
        "* Llave privada: n= 14610553  d= 5743231\n",
        "\n",
        "<br></br>\n",
        "Al ingresar 2 usted debe ingresar su texto, n y e:\n",
        "* texto = hola que tal \n",
        "* n= 14610553.  \n",
        "* e= 2373311. \n",
        "\n",
        "Y recibirá como respuesta: [4488049, 14137192, 13732618, 1, 8625089, 13965870, 4433512, 11949371, 8625089, 6810126, 1, 13732618]\n",
        "\n",
        "<br></br>\n",
        "Al ingresar 3 usted debe ingresar su lista, n y d:\n",
        "* lista = [4488049, 14137192, 13732618, 1, 8625089, 13965870, 4433512, 11949371, 8625089, 6810126, 1, 13732618] \n",
        "* n= 14610553.  \n",
        "* d= 5743231. \n",
        "\n",
        "Y recibirá como respuesta: hola que tal\n"
      ]
    }
  ]
}